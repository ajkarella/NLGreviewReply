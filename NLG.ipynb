{
 "cells": [
  {
   "cell_type": "code",
   "execution_count": 4,
   "metadata": {},
   "outputs": [],
   "source": [
    "import tensorflow_addons as tfa\n",
    "\n",
    "import numpy as np\n",
    "import tensorflow as tf\n",
    "import pickle\n",
    "from tensorflow.keras import layers , activations , models , preprocessing, utils"
   ]
  },
  {
   "cell_type": "code",
   "execution_count": 5,
   "metadata": {},
   "outputs": [],
   "source": [
    "#load data and tag\n",
    "\n",
    "reviews = []\n",
    "responses = []\n",
    "\n",
    "with open('review.dat', 'rb') as f:\n",
    "    rev = pickle.load(f)\n",
    "with open('reply.dat', 'rb') as f:\n",
    "    rep = pickle.load(f)\n",
    "    \n",
    "for i in range(len(rep)):\n",
    "    responses.append( '<START> ' + rep[i] + ' <END>' )\n",
    "    \n",
    "reviews = rev"
   ]
  },
  {
   "cell_type": "code",
   "execution_count": 6,
   "metadata": {},
   "outputs": [],
   "source": [
    "reviews = reviews[0:int(len(reviews)/2)]\n",
    "responses = responses[0:int(len(responses)/2)]"
   ]
  },
  {
   "cell_type": "code",
   "execution_count": 9,
   "metadata": {},
   "outputs": [],
   "source": [
    "#tokenize\n",
    "tokenizer = preprocessing.text.Tokenizer()\n",
    "tokenizer.fit_on_texts( reviews + responses )\n",
    "\n",
    "VOCAB_SIZE = len( tokenizer.word_index )+1\n",
    "#print( 'VOCAB SIZE : {}'.format( VOCAB_SIZE ))\n",
    "\n",
    "vocab = []\n",
    "for word in tokenizer.word_index:\n",
    "    vocab.append( word )\n",
    "\n",
    "def tokenize( sentences ):\n",
    "    tokens_list = []\n",
    "    vocabulary = []\n",
    "    for sentence in sentences:\n",
    "        sentence = sentence.lower()\n",
    "        sentence = re.sub( '[^a-zA-Z]', ' ', sentence )\n",
    "        tokens = sentence.split()\n",
    "        vocabulary += tokens\n",
    "        tokens_list.append( tokens )\n",
    "    return tokens_list , vocabulary"
   ]
  },
  {
   "cell_type": "code",
   "execution_count": 10,
   "metadata": {},
   "outputs": [
    {
     "name": "stdout",
     "output_type": "stream",
     "text": [
      "(536, 961) 961\n",
      "(536, 809) 809\n",
      "(536, 809, 8656)\n"
     ]
    }
   ],
   "source": [
    "# encoder_input_data\n",
    "tokenized_reviews = tokenizer.texts_to_sequences( reviews )\n",
    "maxlen_reviews = max( [ len(x) for x in tokenized_reviews ] )\n",
    "padded_reviews = preprocessing.sequence.pad_sequences( tokenized_reviews , maxlen=maxlen_reviews , padding='post' )\n",
    "encoder_input_data = np.array( padded_reviews )\n",
    "print( encoder_input_data.shape , maxlen_reviews )\n",
    "\n",
    "# decoder_input_data\n",
    "tokenized_responses = tokenizer.texts_to_sequences( responses )\n",
    "maxlen_responses = max( [ len(x) for x in tokenized_responses ] )\n",
    "padded_responses = preprocessing.sequence.pad_sequences( tokenized_responses , maxlen=maxlen_responses , padding='post' )\n",
    "decoder_input_data = np.array( padded_responses )\n",
    "print( decoder_input_data.shape , maxlen_responses )\n",
    "\n",
    "# decoder_output_data\n",
    "tokenized_responses = tokenizer.texts_to_sequences( responses )\n",
    "for i in range(len(tokenized_responses)) :\n",
    "    tokenized_responses[i] = tokenized_responses[i][1:]\n",
    "padded_responses = preprocessing.sequence.pad_sequences( tokenized_responses , maxlen=maxlen_responses , padding='post' )\n",
    "onehot_responses = utils.to_categorical( padded_responses , VOCAB_SIZE )\n",
    "decoder_output_data = np.array( onehot_responses )\n",
    "print( decoder_output_data.shape )"
   ]
  },
  {
   "cell_type": "code",
   "execution_count": 11,
   "metadata": {},
   "outputs": [
    {
     "name": "stdout",
     "output_type": "stream",
     "text": [
      "Model: \"model\"\n",
      "__________________________________________________________________________________________________\n",
      "Layer (type)                    Output Shape         Param #     Connected to                     \n",
      "==================================================================================================\n",
      "input_1 (InputLayer)            [(None, 961)]        0                                            \n",
      "__________________________________________________________________________________________________\n",
      "input_2 (InputLayer)            [(None, 809)]        0                                            \n",
      "__________________________________________________________________________________________________\n",
      "embedding (Embedding)           (None, 961, 200)     1731200     input_1[0][0]                    \n",
      "__________________________________________________________________________________________________\n",
      "embedding_1 (Embedding)         (None, 809, 200)     1731200     input_2[0][0]                    \n",
      "__________________________________________________________________________________________________\n",
      "lstm (LSTM)                     [(None, 200), (None, 320800      embedding[0][0]                  \n",
      "__________________________________________________________________________________________________\n",
      "lstm_1 (LSTM)                   [(None, 809, 200), ( 320800      embedding_1[0][0]                \n",
      "                                                                 lstm[0][1]                       \n",
      "                                                                 lstm[0][2]                       \n",
      "__________________________________________________________________________________________________\n",
      "dense (Dense)                   (None, 809, 8656)    1739856     lstm_1[0][0]                     \n",
      "==================================================================================================\n",
      "Total params: 5,843,856\n",
      "Trainable params: 5,843,856\n",
      "Non-trainable params: 0\n",
      "__________________________________________________________________________________________________\n"
     ]
    }
   ],
   "source": [
    "encoder_inputs = tf.keras.layers.Input(shape=( maxlen_reviews , ))\n",
    "encoder_embedding = tf.keras.layers.Embedding( VOCAB_SIZE, 200 , mask_zero=True ) (encoder_inputs)\n",
    "encoder_outputs , state_h , state_c = tf.keras.layers.LSTM( 200 , return_state=True )( encoder_embedding )\n",
    "encoder_states = [ state_h , state_c ]\n",
    "\n",
    "decoder_inputs = tf.keras.layers.Input(shape=( maxlen_responses ,  ))\n",
    "decoder_embedding = tf.keras.layers.Embedding( VOCAB_SIZE, 200 , mask_zero=True) (decoder_inputs)\n",
    "decoder_lstm = tf.keras.layers.LSTM( 200 , return_state=True , return_sequences=True )\n",
    "decoder_outputs , _ , _ = decoder_lstm ( decoder_embedding , initial_state=encoder_states )\n",
    "decoder_dense = tf.keras.layers.Dense( VOCAB_SIZE , activation=tf.keras.activations.softmax ) \n",
    "output = decoder_dense ( decoder_outputs )\n",
    "\n",
    "model = tf.keras.models.Model([encoder_inputs, decoder_inputs], output )\n",
    "model.compile(optimizer=tf.keras.optimizers.RMSprop(), loss='categorical_crossentropy')\n",
    "\n",
    "model.summary()"
   ]
  },
  {
   "cell_type": "code",
   "execution_count": null,
   "metadata": {},
   "outputs": [
    {
     "name": "stdout",
     "output_type": "stream",
     "text": [
      "Epoch 1/150\n",
      "22/22 [==============================] - 278s 12s/step - loss: 0.7850\n",
      "Epoch 2/150\n",
      "22/22 [==============================] - 285s 13s/step - loss: 0.7080\n",
      "Epoch 3/150\n",
      "22/22 [==============================] - 304s 14s/step - loss: 0.6995\n",
      "Epoch 4/150\n",
      "22/22 [==============================] - 312s 14s/step - loss: 0.6901\n",
      "Epoch 5/150\n",
      "22/22 [==============================] - 312s 14s/step - loss: 0.6836\n",
      "Epoch 6/150\n",
      "22/22 [==============================] - 315s 14s/step - loss: 0.6773\n",
      "Epoch 7/150\n",
      "22/22 [==============================] - 308s 14s/step - loss: 0.6709\n",
      "Epoch 8/150\n",
      "22/22 [==============================] - 305s 14s/step - loss: 0.6636\n",
      "Epoch 9/150\n",
      "22/22 [==============================] - 313s 14s/step - loss: 0.6569\n",
      "Epoch 10/150\n",
      "22/22 [==============================] - 333s 15s/step - loss: 0.6579\n",
      "Epoch 11/150\n",
      "22/22 [==============================] - 345s 16s/step - loss: 0.6514\n",
      "Epoch 12/150\n",
      "22/22 [==============================] - 329s 15s/step - loss: 0.6417\n",
      "Epoch 13/150\n",
      "14/22 [==================>...........] - ETA: 1:59 - loss: 0.5695"
     ]
    }
   ],
   "source": [
    "#attempt larger batch size if comp can handle it (50)\n",
    "model.fit([encoder_input_data , decoder_input_data], decoder_output_data, batch_size=25, epochs=150 ) \n",
    "model.save( 'model.h5' ) "
   ]
  },
  {
   "cell_type": "code",
   "execution_count": null,
   "metadata": {},
   "outputs": [],
   "source": []
  }
 ],
 "metadata": {
  "kernelspec": {
   "display_name": "Python 3",
   "language": "python",
   "name": "python3"
  },
  "language_info": {
   "codemirror_mode": {
    "name": "ipython",
    "version": 3
   },
   "file_extension": ".py",
   "mimetype": "text/x-python",
   "name": "python",
   "nbconvert_exporter": "python",
   "pygments_lexer": "ipython3",
   "version": "3.8.3"
  }
 },
 "nbformat": 4,
 "nbformat_minor": 4
}
